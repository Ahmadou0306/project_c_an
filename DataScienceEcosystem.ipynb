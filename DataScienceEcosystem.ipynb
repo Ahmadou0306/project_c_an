{
 "cells": [
  {
   "cell_type": "markdown",
   "id": "ff9eeeb9-e500-4e42-b0d1-1a0508aba74e",
   "metadata": {},
   "source": [
    "Outils et écosystème de la science des données"
   ]
  },
  {
   "cell_type": "markdown",
   "id": "823f24b2-2890-4b2a-88c8-1f97e4dfdc4f",
   "metadata": {},
   "source": [
    "Dans ce notebook, les outils et l'écosystème de la science des données sont résumés."
   ]
  },
  {
   "cell_type": "markdown",
   "id": "614a7b85-e1b8-4fe7-b326-1ff5a5e7cb6c",
   "metadata": {},
   "source": [
    "**Objectifs :**\n",
    "- Lister les langages populaires pour la science des données\n",
    "- Lister les bibliothèques couramment utilisées par les scientifiques des données\n",
    "- Lister les outils de la science des données\n",
    "- Afficher des expressions arithmétiques simple"
   ]
  },
  {
   "cell_type": "markdown",
   "id": "60f9f8c5-19a3-4a17-8eaf-814bcd6cfb84",
   "metadata": {},
   "source": [
    "Certains des langages populaires que les scientifiques des données utilisent sont :\n",
    "1. Langage Python\n",
    "2. Langage R\n",
    "4. Langage SQL"
   ]
  },
  {
   "attachments": {},
   "cell_type": "markdown",
   "id": "5de54884-c46a-4b86-ba84-85b02c63f7b1",
   "metadata": {},
   "source": [
    "Certaines des bibliothèques couramment utilisées par les scientifiques des données incluent :\n",
    "1. scikit-learn\n",
    "2. numpy\n",
    "3. matplotlib"
   ]
  },
  {
   "cell_type": "markdown",
   "id": "f314fe49-979d-4eeb-8253-439e0acedfa3",
   "metadata": {},
   "source": [
    "| Outils de la science des données       |\n",
    "|----------------------------------------|\n",
    "| Jupyter Notebook                       |\n",
    "| RStudio                                |\n",
    "| Talend                                 |\n"
   ]
  },
  {
   "cell_type": "markdown",
   "id": "b8ca4407-2e07-4e09-a427-888c12e32266",
   "metadata": {},
   "source": [
    "<h3>Voici quelques exemples d'évaluation d'expressions arithmétiques en Python.</h3>\n",
    "\n",
    "- Addition : `5 + 3`\n",
    "- Soustraction : `10 - 4`\n",
    "- Multiplication : `7 * 6`\n",
    "- Division : `8 / 2`\n",
    "- Exponentiation : `2 ** 3`"
   ]
  },
  {
   "cell_type": "code",
   "execution_count": 8,
   "id": "a47f8475-3767-4ae1-8c90-2135b4f79ce1",
   "metadata": {},
   "outputs": [
    {
     "data": {
      "text/plain": [
       "17"
      ]
     },
     "execution_count": 8,
     "metadata": {},
     "output_type": "execute_result"
    }
   ],
   "source": [
    "#Ceci est une simple expression arithmétique pour multiplier puis additionner des entiers\n",
    "(3*4)+5"
   ]
  },
  {
   "cell_type": "code",
   "execution_count": 9,
   "id": "aafa3a27-e966-45a5-8655-615ea77c64ad",
   "metadata": {},
   "outputs": [
    {
     "data": {
      "text/plain": [
       "3.3333333333333335"
      ]
     },
     "execution_count": 9,
     "metadata": {},
     "output_type": "execute_result"
    }
   ],
   "source": [
    "#Cela convertira 200 minutes en heures en divisant par 60\n",
    "200/60"
   ]
  },
  {
   "cell_type": "markdown",
   "id": "aa18b906-a39d-423a-9e7a-8f369abde5c4",
   "metadata": {},
   "source": [
    "## Auteur\n",
    "Ahmadou NDIAYE"
   ]
  }
 ],
 "metadata": {
  "kernelspec": {
   "display_name": "Python 3 (ipykernel)",
   "language": "python",
   "name": "python3"
  },
  "language_info": {
   "codemirror_mode": {
    "name": "ipython",
    "version": 3
   },
   "file_extension": ".py",
   "mimetype": "text/x-python",
   "name": "python",
   "nbconvert_exporter": "python",
   "pygments_lexer": "ipython3",
   "version": "3.12.7"
  }
 },
 "nbformat": 4,
 "nbformat_minor": 5
}
